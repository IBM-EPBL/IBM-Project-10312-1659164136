{
 "cells": [
  {
   "cell_type": "markdown",
   "metadata": {},
   "source": [
    "# Project Development Phase - Sprint-2\n",
    "\n",
    "### Team ID: PNT2022TMID13052\n",
    "### Project Name: Data Analytics fro DHL Logistics Facilities"
   ]
  },
  {
   "cell_type": "markdown",
   "metadata": {
    "id": "HaYW_sB-sr4E"
   },
   "source": [
    "##IMPORTING NECESSARY LIBRARIES"
   ]
  },
  {
   "cell_type": "code",
   "execution_count": null,
   "metadata": {
    "id": "Bns8EY9Ir55l"
   },
   "outputs": [],
   "source": [
    "import os\n",
    "import cv2\n",
    "import numpy as np\n",
    "import matplotlib.pyplot as plt\n",
    "from keras.preprocessing.image import ImageDataGenerator"
   ]
  },
  {
   "cell_type": "markdown",
   "metadata": {
    "id": "A9ER5Awis0QS"
   },
   "source": [
    "##RENAMING DATA FILES"
   ]
  },
  {
   "cell_type": "code",
   "execution_count": null,
   "metadata": {
    "id": "Vifnv8Spsx2i"
   },
   "outputs": [],
   "source": [
    "def rename_imgs(file_name):\n",
    "    folder_path = r'test_dataset/'+file_name\n",
    "\n",
    "    num = 0\n",
    "    for file in os.listdir(folder_path):\n",
    "        # if num%10 == 0:\n",
    "        #     print(f'Renamed {num} files...')\n",
    "        # os.rename(folder_path+'\\\\'+file, folder_path+'\\\\'+file_name+'_'+str(num)+'.jpeg')\n",
    "        num += 1"
   ]
  },
  {
   "cell_type": "code",
   "execution_count": null,
   "metadata": {
    "id": "llJOzoNVs828"
   },
   "outputs": [],
   "source": [
    "fn = 'Space'\n",
    "rename_imgs(fn)\n"
   ]
  },
  {
   "cell_type": "code",
   "execution_count": null,
   "metadata": {
    "id": "LK6bf3rYts5A"
   },
   "outputs": [],
   "source": [
    "file_names = '0123456789'+'ABCDEFGHIJKLMNOPQRSTUVWXYZ'\n",
    "for fn in file_names:\n",
    "    rename_imgs(fn)"
   ]
  },
  {
   "cell_type": "markdown",
   "metadata": {
    "id": "NPuk-olHttuQ"
   },
   "source": [
    "##DISPLAYING SAMPLE IMAGES FROM DATASET"
   ]
  },
  {
   "cell_type": "code",
   "execution_count": null,
   "metadata": {
    "id": "ny4GqC1Otx9u"
   },
   "outputs": [],
   "source": [
    "train_data_path = 'train_dataset/'\n",
    "test_data_path = 'test_dataset/'"
   ]
  },
  {
   "cell_type": "code",
   "execution_count": null,
   "metadata": {
    "id": "k-PSJFOSuByn"
   },
   "outputs": [],
   "source": [
    "def display(img,sign=None):\n",
    "    \n",
    "    img = cv2.cvtColor(img,cv2.COLOR_BGR2RGB)\n",
    "    fig = plt.figure(figsize=(7,7))\n",
    "    ax = fig.add_subplot(111)\n",
    "    plt.title(sign)\n",
    "    ax.imshow(img)"
   ]
  },
  {
   "cell_type": "markdown",
   "metadata": {
    "id": "bfnNpZCquEG5"
   },
   "source": [
    "##Training Data Images"
   ]
  },
  {
   "cell_type": "code",
   "execution_count": null,
   "metadata": {
    "id": "xaIGb_x6uFQ9"
   },
   "outputs": [],
   "source": [
    "sign_img = cv2.imread(train_data_path+'O/O_234.jpeg')\n",
    "display(sign_img,'a')"
   ]
  },
  {
   "cell_type": "code",
   "execution_count": null,
   "metadata": {
    "id": "PUbDZZVguHZ1"
   },
   "outputs": [],
   "source": [
    "sign_img = cv2.imread(train_data_path+'A/A_204.jpeg')\n",
    "display(sign_img,'A')"
   ]
  },
  {
   "cell_type": "code",
   "execution_count": null,
   "metadata": {
    "id": "z9e78wfuuLkT"
   },
   "outputs": [],
   "source": [
    "sign_img = cv2.imread(train_data_path+'3/3_340.jpeg')\n",
    "display(sign_img,'3')"
   ]
  },
  {
   "cell_type": "code",
   "execution_count": null,
   "metadata": {
    "id": "USz01cGKuNaB"
   },
   "outputs": [],
   "source": [
    "sign_img = cv2.imread(train_data_path+'M/M_100.jpeg')\n",
    "display(sign_img,'M')"
   ]
  },
  {
   "cell_type": "code",
   "execution_count": null,
   "metadata": {
    "id": "DO59DVTUuPc_"
   },
   "outputs": [],
   "source": [
    "sign_img = cv2.imread(train_data_path+'S/S_10.jpeg')\n",
    "display(sign_img,'Space')"
   ]
  },
  {
   "cell_type": "markdown",
   "metadata": {
    "id": "AdZ-WOnCuRRz"
   },
   "source": [
    "##Test Data Images"
   ]
  },
  {
   "cell_type": "code",
   "execution_count": null,
   "metadata": {
    "id": "9tXpY3G7uSTF"
   },
   "outputs": [],
   "source": [
    "sign_img = cv2.imread(test_data_path+'S/S_15.jpeg')\n",
    "display(sign_img,'S')"
   ]
  },
  {
   "cell_type": "code",
   "execution_count": null,
   "metadata": {
    "id": "h0Si_5E1uVvQ"
   },
   "outputs": [],
   "source": [
    "sign_img = cv2.imread(test_data_path+'Z/Z_1.jpeg')\n",
    "display(sign_img,'Z')"
   ]
  },
  {
   "cell_type": "code",
   "execution_count": null,
   "metadata": {
    "id": "aOg0pr5BuXwt"
   },
   "outputs": [],
   "source": [
    "sign_img = cv2.imread(test_data_path+'7/7_8.jpeg')\n",
    "display(sign_img,'7')"
   ]
  },
  {
   "cell_type": "markdown",
   "metadata": {
    "id": "sM5xxGSPuZ8n"
   },
   "source": [
    "##AUGMENTATION AND PREPROCESSING THE DATASET"
   ]
  },
  {
   "cell_type": "markdown",
   "metadata": {
    "id": "b6sPDL9xubCi"
   },
   "source": [
    "Creating ImageDataGenerator"
   ]
  },
  {
   "cell_type": "code",
   "execution_count": null,
   "metadata": {
    "id": "gK8LreIEuhsD"
   },
   "outputs": [],
   "source": [
    "image_gen = ImageDataGenerator(rotation_range=30,\n",
    "                              width_shift_range=0.1,\n",
    "                              height_shift_range=0.1,\n",
    "                              shear_range=0.2,\n",
    "                              zoom_range=0.2,\n",
    "                              rescale=1/255,\n",
    "                              horizontal_flip=True,\n",
    "                              fill_mode='nearest',\n",
    "                              validation_split=0.25)"
   ]
  },
  {
   "cell_type": "markdown",
   "metadata": {
    "id": "KISPY-w0uko6"
   },
   "source": [
    "##Original Image"
   ]
  },
  {
   "cell_type": "code",
   "execution_count": null,
   "metadata": {
    "id": "fkEzi-oiunWk"
   },
   "outputs": [],
   "source": [
    "sign_img = cv2.imread(train_data_path+'3/3_100.jpeg')\n",
    "display(sign_img,'3')"
   ]
  },
  {
   "cell_type": "markdown",
   "metadata": {
    "id": "tGi2ucrfuqLe"
   },
   "source": [
    "##Augmented Images"
   ]
  },
  {
   "cell_type": "code",
   "execution_count": null,
   "metadata": {
    "id": "kYbFJJ3Eur9M"
   },
   "outputs": [],
   "source": [
    "display(image_gen.random_transform(sign_img))"
   ]
  },
  {
   "cell_type": "code",
   "execution_count": null,
   "metadata": {
    "id": "BwvBHvJVuuIa"
   },
   "outputs": [],
   "source": [
    "display(image_gen.random_transform(sign_img))"
   ]
  },
  {
   "cell_type": "markdown",
   "metadata": {
    "id": "TQMzH7QAuygP"
   },
   "source": [
    "##SPLITING INTO TRAIN AND VALIDATION DATASET"
   ]
  },
  {
   "cell_type": "markdown",
   "metadata": {
    "id": "E5_ym8qzuziN"
   },
   "source": [
    "Train Data Generator"
   ]
  },
  {
   "cell_type": "code",
   "execution_count": null,
   "metadata": {
    "id": "RxOkwa5OuwXh"
   },
   "outputs": [],
   "source": [
    "train_data_gen = image_gen.flow_from_directory(train_data_path,\n",
    "                                           target_size=(250,250),\n",
    "                                           batch_size=16,\n",
    "                                           shuffle=True,\n",
    "                                           class_mode='binary',\n",
    "                                           subset='training')"
   ]
  },
  {
   "cell_type": "markdown",
   "metadata": {
    "id": "eGTS2T8Yu5k-"
   },
   "source": [
    "##Validation Data Generator"
   ]
  },
  {
   "cell_type": "code",
   "execution_count": null,
   "metadata": {
    "id": "4PweIhgbu8Ed"
   },
   "outputs": [],
   "source": [
    "validation_data_gen = image_gen.flow_from_directory(train_data_path,\n",
    "                                           target_size=(250,250),\n",
    "                                           batch_size=16,\n",
    "                                           shuffle=True,\n",
    "                                           class_mode='binary',\n",
    "                                           subset='validation')"
   ]
  },
  {
   "cell_type": "markdown",
   "metadata": {
    "id": "cKqYuwWGu-Eq"
   },
   "source": [
    "##Test Data Generator"
   ]
  },
  {
   "cell_type": "code",
   "execution_count": null,
   "metadata": {
    "id": "APH546Wlu_Xl"
   },
   "outputs": [],
   "source": [
    "test_data_gen = image_gen.flow_from_directory(test_data_path,\n",
    "                                           target_size=(250,250),\n",
    "                                           batch_size=8,\n",
    "                                           shuffle=True,\n",
    "                                           class_mode='categorical',\n",
    "                                           )"
   ]
  },
  {
   "cell_type": "code",
   "execution_count": null,
   "metadata": {
    "id": "HEfl1B0BvC02"
   },
   "outputs": [],
   "source": [
    "train_data_gen.class_indices"
   ]
  },
  {
   "cell_type": "code",
   "execution_count": null,
   "metadata": {
    "id": "gkDMLWiGvE0L"
   },
   "outputs": [],
   "source": [
    "test_data_gen.classes"
   ]
  },
  {
   "cell_type": "code",
   "execution_count": null,
   "metadata": {
    "id": "yTwBzvPrvGzl"
   },
   "outputs": [],
   "source": [
    "len(train_data_gen.classes)"
   ]
  },
  {
   "cell_type": "code",
   "execution_count": null,
   "metadata": {
    "id": "jU7-J01XvGwB"
   },
   "outputs": [],
   "source": [
    "len(test_data_gen.classes)"
   ]
  }
 ],
 "metadata": {
  "colab": {
   "provenance": []
  },
  "kernelspec": {
   "display_name": "Python 3 (ipykernel)",
   "language": "python",
   "name": "python3"
  },
  "language_info": {
   "codemirror_mode": {
    "name": "ipython",
    "version": 3
   },
   "file_extension": ".py",
   "mimetype": "text/x-python",
   "name": "python",
   "nbconvert_exporter": "python",
   "pygments_lexer": "ipython3",
   "version": "3.8.10"
  }
 },
 "nbformat": 4,
 "nbformat_minor": 1
}
