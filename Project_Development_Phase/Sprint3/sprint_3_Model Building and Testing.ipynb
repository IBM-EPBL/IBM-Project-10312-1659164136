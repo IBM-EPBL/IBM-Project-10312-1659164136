{
 "cells": [
  {
   "cell_type": "markdown",
   "metadata": {},
   "source": [
    "# Project Development Phase - Sprint-3\n",
    "\n",
    "### Team ID: PNT2022TMID13052\n",
    "### Project Name: Data Analytics fro DHL Logistics Facilities"
   ]
  },
  {
   "cell_type": "markdown",
   "metadata": {
    "id": "rdOPhF-LcgRj"
   },
   "source": [
    "#### Model Building and Testing"
   ]
  },
  {
   "cell_type": "code",
   "execution_count": 5,
   "metadata": {
    "colab": {
     "base_uri": "https://localhost:8080/"
    },
    "id": "YChV-AS-cwL-",
    "outputId": "1ee927d9-d31a-46c8-d388-be4e5a9ace4e"
   },
   "outputs": [
    {
     "name": "stdout",
     "output_type": "stream",
     "text": [
      "Drive already mounted at /content/drive; to attempt to forcibly remount, call drive.mount(\"/content/drive\", force_remount=True).\n"
     ]
    }
   ],
   "source": [
    "from google.colab import drive\n",
    "drive.mount('/content/drive')"
   ]
  },
  {
   "cell_type": "code",
   "execution_count": 6,
   "metadata": {
    "colab": {
     "base_uri": "https://localhost:8080/"
    },
    "id": "YB-CuFFrd8Lh",
    "outputId": "b4ac84b9-ad4f-45f6-96e3-f58ec88c4edf"
   },
   "outputs": [
    {
     "name": "stdout",
     "output_type": "stream",
     "text": [
      "\u001b[0m\u001b[01;34mdrive\u001b[0m/  \u001b[01;34msample_data\u001b[0m/\n"
     ]
    }
   ],
   "source": [
    "ls"
   ]
  },
  {
   "cell_type": "markdown",
   "metadata": {
    "id": "wLYSrDKFFdtB"
   },
   "source": [
    "##Image Preprocessing"
   ]
  },
  {
   "cell_type": "markdown",
   "metadata": {
    "id": "C_p9wybWrVL-"
   },
   "source": [
    "##Import ImageDataGenerator Library And Configure It"
   ]
  },
  {
   "cell_type": "code",
   "execution_count": 7,
   "metadata": {
    "id": "JbmV3GfrFh9k"
   },
   "outputs": [],
   "source": [
    "from keras.preprocessing.image import ImageDataGenerator\n",
    "train_datagen = ImageDataGenerator(rescale = 1./255, shear_range=0.2, zoom_range=0.2, horizontal_flip=True)\n",
    "test_datagen = ImageDataGenerator(rescale = 1./255)"
   ]
  },
  {
   "cell_type": "markdown",
   "metadata": {
    "id": "wPdqkeqDrX6W"
   },
   "source": [
    "##Apply ImageDataGenerator Functionality To Train And Test Set"
   ]
  },
  {
   "cell_type": "code",
   "execution_count": 8,
   "metadata": {
    "colab": {
     "base_uri": "https://localhost:8080/"
    },
    "id": "7CO88jL7G_4R",
    "outputId": "d25743bb-7c53-4909-e4a9-6af63d1953cd"
   },
   "outputs": [
    {
     "name": "stdout",
     "output_type": "stream",
     "text": [
      "Found 15750 images belonging to 9 classes.\n",
      "Found 2250 images belonging to 9 classes.\n"
     ]
    }
   ],
   "source": [
    "x_train = train_datagen.flow_from_directory('/content/drive/MyDrive/Nalaiyathiran/Dataset/training_set', target_size=(64,64), batch_size=300,class_mode='categorical', color_mode = \"grayscale\")\n",
    "x_test = test_datagen.flow_from_directory('/content/drive/MyDrive/Nalaiyathiran/Dataset/test_set', target_size=(64,64), batch_size=300,class_mode='categorical', color_mode = \"grayscale\")"
   ]
  },
  {
   "cell_type": "markdown",
   "metadata": {
    "id": "ykp_idpeFihn"
   },
   "source": [
    "##Testing"
   ]
  },
  {
   "cell_type": "markdown",
   "metadata": {
    "id": "Z8eKD4UQk7Hl"
   },
   "source": [
    "##Import The Required Model Building Libraries"
   ]
  },
  {
   "cell_type": "code",
   "execution_count": 9,
   "metadata": {
    "id": "UcFaFtaweO8W"
   },
   "outputs": [],
   "source": [
    "from keras.models import Sequential\n",
    "from keras.layers import Dense\n",
    "from keras.layers import Convolution2D\n",
    "from keras.layers import MaxPooling2D\n",
    "from keras.layers import Dropout\n",
    "from keras.layers import Flatten"
   ]
  },
  {
   "cell_type": "markdown",
   "metadata": {
    "id": "hLrZViZDlPpl"
   },
   "source": [
    "##Initialize The Model"
   ]
  },
  {
   "cell_type": "code",
   "execution_count": 11,
   "metadata": {
    "id": "TGHALJUNeTg9"
   },
   "outputs": [],
   "source": [
    "model=Sequential()"
   ]
  },
  {
   "cell_type": "markdown",
   "metadata": {
    "id": "q9OLbaXTlUOo"
   },
   "source": [
    "##Add The Convolution Layer"
   ]
  },
  {
   "cell_type": "code",
   "execution_count": 12,
   "metadata": {
    "id": "sTXduWD5eZr4"
   },
   "outputs": [],
   "source": [
    "model.add(Convolution2D(32, (3,3), input_shape=(64,64,1), activation= 'relu'))\n",
    "#no. of feature detectors, size of featuredetector, image size, activation function"
   ]
  },
  {
   "cell_type": "markdown",
   "metadata": {
    "id": "4izZYp-xlYSQ"
   },
   "source": [
    "##Add The Pooling Layer"
   ]
  },
  {
   "cell_type": "code",
   "execution_count": 14,
   "metadata": {
    "id": "zGmehsJceliw"
   },
   "outputs": [],
   "source": [
    "model.add(MaxPooling2D(pool_size=(2,2)))"
   ]
  },
  {
   "cell_type": "markdown",
   "metadata": {
    "id": "G7JgDMyJlYzV"
   },
   "source": [
    "##Add The Flatten Layer"
   ]
  },
  {
   "cell_type": "code",
   "execution_count": 15,
   "metadata": {
    "id": "5yML_kREQZ9X"
   },
   "outputs": [],
   "source": [
    "model.add(Flatten())"
   ]
  },
  {
   "cell_type": "markdown",
   "metadata": {
    "id": "GSjnuhwhlhmX"
   },
   "source": [
    "##Adding The Dense Layers"
   ]
  },
  {
   "cell_type": "code",
   "execution_count": 16,
   "metadata": {
    "id": "fCUN4cxDQZ57"
   },
   "outputs": [],
   "source": [
    "model.add(Dense(units=512, activation='relu'))\n",
    "model.add(Dense(units=9, activation='softmax'))"
   ]
  },
  {
   "cell_type": "markdown",
   "metadata": {
    "id": "nF3VXUkwlldP"
   },
   "source": [
    "##Compile The Model"
   ]
  },
  {
   "cell_type": "code",
   "execution_count": 17,
   "metadata": {
    "id": "eAiQ0cH_QZy6"
   },
   "outputs": [],
   "source": [
    "model.compile(loss='categorical_crossentropy', optimizer='adam', metrics=['accuracy'])"
   ]
  },
  {
   "cell_type": "markdown",
   "metadata": {
    "id": "iQwbTo4RlosS"
   },
   "source": [
    "##Fit And Save The Model"
   ]
  },
  {
   "cell_type": "code",
   "execution_count": 18,
   "metadata": {
    "colab": {
     "base_uri": "https://localhost:8080/"
    },
    "id": "6rShgWL_RRwF",
    "outputId": "59edca33-07ad-4753-9bd3-5343ef91a13b"
   },
   "outputs": [
    {
     "name": "stderr",
     "output_type": "stream",
     "text": [
      "/usr/local/lib/python3.7/dist-packages/ipykernel_launcher.py:1: UserWarning: `Model.fit_generator` is deprecated and will be removed in a future version. Please use `Model.fit`, which supports generators.\n",
      "  \"\"\"Entry point for launching an IPython kernel.\n"
     ]
    },
    {
     "name": "stdout",
     "output_type": "stream",
     "text": [
      "Epoch 1/10\n",
      "24/24 [==============================] - ETA: 0s - loss: 0.8270 - accuracy: 0.7379 "
     ]
    },
    {
     "name": "stderr",
     "output_type": "stream",
     "text": [
      "WARNING:tensorflow:Your input ran out of data; interrupting training. Make sure that your dataset or generator can generate at least `steps_per_epoch * epochs` batches (in this case, 40 batches). You may need to use the repeat() function when building your dataset.\n"
     ]
    },
    {
     "name": "stdout",
     "output_type": "stream",
     "text": [
      "24/24 [==============================] - 1931s 81s/step - loss: 0.8270 - accuracy: 0.7379 - val_loss: 0.3614 - val_accuracy: 0.9129\n",
      "Epoch 2/10\n",
      "24/24 [==============================] - 711s 30s/step - loss: 0.2278 - accuracy: 0.9357\n",
      "Epoch 3/10\n",
      "24/24 [==============================] - 366s 15s/step - loss: 0.1275 - accuracy: 0.9661\n",
      "Epoch 4/10\n",
      "24/24 [==============================] - 208s 9s/step - loss: 0.0911 - accuracy: 0.9761\n",
      "Epoch 5/10\n",
      "24/24 [==============================] - 114s 5s/step - loss: 0.0641 - accuracy: 0.9840\n",
      "Epoch 6/10\n",
      "24/24 [==============================] - 78s 3s/step - loss: 0.0514 - accuracy: 0.9864\n",
      "Epoch 7/10\n",
      "24/24 [==============================] - 52s 2s/step - loss: 0.0409 - accuracy: 0.9900\n",
      "Epoch 8/10\n",
      "24/24 [==============================] - 40s 2s/step - loss: 0.0294 - accuracy: 0.9929\n",
      "Epoch 9/10\n",
      "24/24 [==============================] - 36s 1s/step - loss: 0.0194 - accuracy: 0.9956\n",
      "Epoch 10/10\n",
      "24/24 [==============================] - 33s 1s/step - loss: 0.0165 - accuracy: 0.9962\n"
     ]
    },
    {
     "data": {
      "text/plain": [
       "<keras.callbacks.History at 0x7f9352cc6c90>"
      ]
     },
     "execution_count": 18,
     "metadata": {},
     "output_type": "execute_result"
    }
   ],
   "source": [
    "model.fit_generator(x_train, steps_per_epoch=24, epochs=10, validation_data=x_test, validation_steps=40)\n",
    "#steps_per_epoch = no.of train images//batch size"
   ]
  },
  {
   "cell_type": "code",
   "execution_count": 19,
   "metadata": {
    "id": "oYkIeJ16Rv72"
   },
   "outputs": [],
   "source": [
    "model.save('aslpng1.h5')"
   ]
  },
  {
   "cell_type": "markdown",
   "metadata": {
    "id": "m4K8Iy1aIT_l"
   },
   "source": [
    "##Testmodel"
   ]
  },
  {
   "cell_type": "markdown",
   "metadata": {
    "id": "yrXG--MtmPvl"
   },
   "source": [
    "##Import The Packages And Load The Saved Model"
   ]
  },
  {
   "cell_type": "code",
   "execution_count": 38,
   "metadata": {
    "id": "wfFt14hfR4RT"
   },
   "outputs": [],
   "source": [
    "from tensorflow.keras.models import load_model\n",
    "from tensorflow.keras.preprocessing import image\n",
    "import numpy as np\n",
    "import cv2"
   ]
  },
  {
   "cell_type": "code",
   "execution_count": 26,
   "metadata": {
    "id": "BzEmOb9uQZjj"
   },
   "outputs": [],
   "source": [
    "model=load_model('aslpng1.h5')"
   ]
  },
  {
   "cell_type": "code",
   "execution_count": 39,
   "metadata": {
    "colab": {
     "base_uri": "https://localhost:8080/",
     "height": 81
    },
    "id": "bbP4KUThoiVt",
    "outputId": "9c69e9eb-195c-46d0-9470-d5fb970fbdc3"
   },
   "outputs": [
    {
     "data": {
      "image/png": "[encoded data removed]",
      "text/plain": [
       "<PIL.Image.Image image mode=RGB size=64x64 at 0x7F933BE54D50>"
      ]
     },
     "execution_count": 39,
     "metadata": {},
     "output_type": "execute_result"
    }
   ],
   "source": [
    "img = image.load_img('/content/drive/MyDrive/Nalaiyathiran/Dataset/test_set/E/1.png')\n",
    "img"
   ]
  },
  {
   "cell_type": "markdown",
   "metadata": {
    "id": "nllNcuU2mdMH"
   },
   "source": [
    "##Load The Test Image, Pre-Process It And Predict"
   ]
  },
  {
   "cell_type": "code",
   "execution_count": 44,
   "metadata": {
    "id": "2xBL53lYTIle"
   },
   "outputs": [],
   "source": [
    "from skimage.transform import resize\n",
    "def detect(frame):\n",
    "    img=image.img_to_array(frame)\n",
    "    img = resize(img,(64,64,1))\n",
    "    img = np.expand_dims(img,axis=0)\n",
    "    pred=np.argmax(model.predict(img))\n",
    "    op=['A','B','C','D','E','F','G','H','I']\n",
    "    print(\"THE PREDICTED LETTER IS \",op[pred])"
   ]
  },
  {
   "cell_type": "code",
   "execution_count": 45,
   "metadata": {
    "colab": {
     "base_uri": "https://localhost:8080/"
    },
    "id": "JVxfJdDapIn1",
    "outputId": "c2fc8785-0d0d-47fe-b36b-746e657ebba0"
   },
   "outputs": [
    {
     "name": "stdout",
     "output_type": "stream",
     "text": [
      "1/1 [==============================] - 0s 22ms/step\n",
      "THE PREDICTED LETTER IS  D\n"
     ]
    }
   ],
   "source": [
    "img=image.load_img(\"/content/drive/MyDrive/Nalaiyathiran/Dataset/test_set/D/100.png\")\n",
    "detect(img)"
   ]
  },
  {
   "cell_type": "code",
   "execution_count": 49,
   "metadata": {
    "colab": {
     "base_uri": "https://localhost:8080/"
    },
    "id": "TPetcshKc6d_",
    "outputId": "9cfd9c05-20ff-44e6-e06e-de770989e36c"
   },
   "outputs": [
    {
     "name": "stdout",
     "output_type": "stream",
     "text": [
      "1/1 [==============================] - 0s 24ms/step\n",
      "THE PREDICTED LETTER IS  G\n"
     ]
    }
   ],
   "source": [
    "img=image.load_img(\"/content/drive/MyDrive/Nalaiyathiran/Dataset/test_set/G/1.png\")\n",
    "detect(img)"
   ]
  }
 ],
 "metadata": {
  "colab": {
   "provenance": []
  },
  "kernelspec": {
   "display_name": "Python 3 (ipykernel)",
   "language": "python",
   "name": "python3"
  },
  "language_info": {
   "codemirror_mode": {
    "name": "ipython",
    "version": 3
   },
   "file_extension": ".py",
   "mimetype": "text/x-python",
   "name": "python",
   "nbconvert_exporter": "python",
   "pygments_lexer": "ipython3",
   "version": "3.8.10"
  }
 },
 "nbformat": 4,
 "nbformat_minor": 1
}
